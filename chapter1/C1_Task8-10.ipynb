{
 "cells": [
  {
   "cell_type": "code",
   "execution_count": 1,
   "metadata": {},
   "outputs": [],
   "source": [
    "import matplotlib.pyplot as plt\n",
    "from matplotlib import rc\n",
    "import numpy as np\n",
    "import random\n",
    "from spike_generator import *\n",
    "plt.style.use('dark_background')\n",
    "%matplotlib inline"
   ]
  },
  {
   "cell_type": "markdown",
   "metadata": {},
   "source": [
    "## Task 8\n",
    "file c1p8.mat contains data collected and provided by Rob de Ruyter van Stevenick from a fly H1 neuron responding to an approximate white-noise  visual motion stimulus. Data were collected for 20 minutes at a sampling rate of 500 Hz. In the file, $rho$ is a vector that gives the sequence of spiking events or nonevents at the sampled times (every 2 ms). When an element of $rho$ is one, this indicates the presense of a \n",
    "spike at the corresponding time, whereas a zero value indicates no spike. The variable $stim$ gives the sequence of stimulus values at the\n",
    "sampled times. Calculate and plot the spike-triggered average from these data over the range from 0 to 300 ms (150 time steps). (Based on\n",
    "a problem from Sebastian Seung)."
   ]
  },
  {
   "cell_type": "code",
   "execution_count": null,
   "metadata": {},
   "outputs": [],
   "source": []
  }
 ],
 "metadata": {
  "kernelspec": {
   "display_name": "Python 3",
   "language": "python",
   "name": "python3"
  },
  "language_info": {
   "codemirror_mode": {
    "name": "ipython",
    "version": 3
   },
   "file_extension": ".py",
   "mimetype": "text/x-python",
   "name": "python",
   "nbconvert_exporter": "python",
   "pygments_lexer": "ipython3",
   "version": "3.7.7"
  }
 },
 "nbformat": 4,
 "nbformat_minor": 4
}
